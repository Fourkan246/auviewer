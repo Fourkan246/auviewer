{
 "cells": [
  {
   "cell_type": "code",
   "execution_count": 1,
   "metadata": {},
   "outputs": [
    {
     "name": "stdout",
     "output_type": "stream",
     "text": [
      "--2020-10-23 15:42:29--  https://github.com/autonlab/auviewer/raw/master/sample_files/sample_patient.h5\n",
      "Resolving github.com (github.com)... 140.82.113.3\n",
      "Connecting to github.com (github.com)|140.82.113.3|:443... connected.\n",
      "HTTP request sent, awaiting response... 302 Found\n",
      "Location: https://raw.githubusercontent.com/autonlab/auviewer/master/sample_files/sample_patient.h5 [following]\n",
      "--2020-10-23 15:42:29--  https://raw.githubusercontent.com/autonlab/auviewer/master/sample_files/sample_patient.h5\n",
      "Resolving raw.githubusercontent.com (raw.githubusercontent.com)... 199.232.64.133\n",
      "Connecting to raw.githubusercontent.com (raw.githubusercontent.com)|199.232.64.133|:443... connected.\n",
      "HTTP request sent, awaiting response... 200 OK\n",
      "Length: 66156961 (63M) [application/octet-stream]\n",
      "Saving to: ‘sample_patient.h5’\n",
      "\n",
      "sample_patient.h5   100%[===================>]  63.09M  34.1MB/s    in 1.8s    \n",
      "\n",
      "2020-10-23 15:42:32 (34.1 MB/s) - ‘sample_patient.h5’ saved [66156961/66156961]\n",
      "\n"
     ]
    }
   ],
   "source": [
    "# Download sample file\n",
    "!wget https://github.com/autonlab/auviewer/raw/master/sample_files/sample_patient.h5"
   ]
  },
  {
   "cell_type": "code",
   "execution_count": null,
   "metadata": {},
   "outputs": [
    {
     "name": "stdout",
     "output_type": "stream",
     "text": [
      "WARNING:root:Running viewer against a single file, using a temp directory for data storage (annotations, etc. will be lost).\n",
      "WARNING:root:AUViewer is running with a temporary data path! If you create patterns, annotations, or anything else stored in the database, they will be lost!\n",
      "WARNING:werkzeug:WebSocket transport not available. Install eventlet or gevent and gevent-websocket for improved performance.\n",
      " * Serving Flask app \"auviewer.serve\" (lazy loading)\n",
      " * Environment: production\n",
      "\u001b[31m   WARNING: This is a development server. Do not use it in a production deployment.\u001b[0m\n",
      "\u001b[2m   Use a production WSGI server instead.\u001b[0m\n",
      " * Debug mode: off\n",
      "INFO:werkzeug: * Running on http://localhost:8001/ (Press CTRL+C to quit)\n",
      "Assembling initial project payload output for project temp\n",
      "INFO:werkzeug:127.0.0.1 - - [23/Oct/2020 15:43:28] \"\u001b[37mGET /project?id=1 HTTP/1.1\u001b[0m\" 200 -\n",
      "INFO:werkzeug:127.0.0.1 - - [23/Oct/2020 15:43:29] \"\u001b[37mGET /socket.io/?EIO=3&transport=polling&t=NLM_CiY HTTP/1.1\u001b[0m\" 200 -\n",
      "INFO:werkzeug:127.0.0.1 - - [23/Oct/2020 15:43:29] \"\u001b[37mGET /socket.io/?EIO=3&transport=polling&t=NLM_CiY HTTP/1.1\u001b[0m\" 200 -\n",
      "INFO:werkzeug:127.0.0.1 - - [23/Oct/2020 15:43:29] \"\u001b[37mGET /socket.io/?EIO=3&transport=polling&t=NLM_Ckz HTTP/1.1\u001b[0m\" 200 -\n",
      "ERROR:root:File ID 1 not found.\n",
      "INFO:werkzeug:127.0.0.1 - - [23/Oct/2020 15:43:29] \"\u001b[33mGET /initial_file_payload?project_id=1&file_id=1 HTTP/1.1\u001b[0m\" 404 -\n",
      "INFO:werkzeug:127.0.0.1 - - [23/Oct/2020 15:43:30] \"\u001b[37mGET /socket.io/?EIO=3&transport=polling&t=NLM_C-s HTTP/1.1\u001b[0m\" 200 -\n",
      "INFO:werkzeug:127.0.0.1 - - [23/Oct/2020 15:43:31] \"\u001b[37mGET /socket.io/?EIO=3&transport=polling&t=NLM_DBo HTTP/1.1\u001b[0m\" 200 -\n",
      "INFO:werkzeug:127.0.0.1 - - [23/Oct/2020 15:43:33] \"\u001b[37mGET /socket.io/?EIO=3&transport=polling&t=NLM_Dh3 HTTP/1.1\u001b[0m\" 200 -\n",
      "INFO:werkzeug:127.0.0.1 - - [23/Oct/2020 15:43:35] \"\u001b[37mGET /socket.io/?EIO=3&transport=polling&t=NLM_EAI HTTP/1.1\u001b[0m\" 200 -\n",
      "INFO:werkzeug:127.0.0.1 - - [23/Oct/2020 15:43:57] \"\u001b[37mPOST /socket.io/?EIO=3&transport=polling&t=NLM_Ja4&sid=17ea9b00eae248b28639d6d6d08ce4e3 HTTP/1.1\u001b[0m\" 200 -\n",
      "INFO:werkzeug:127.0.0.1 - - [23/Oct/2020 15:43:57] \"\u001b[37mGET /socket.io/?EIO=3&transport=polling&t=NLM_D09&sid=17ea9b00eae248b28639d6d6d08ce4e3 HTTP/1.1\u001b[0m\" 200 -\n",
      "INFO:werkzeug:127.0.0.1 - - [23/Oct/2020 15:44:22] \"\u001b[37mPOST /socket.io/?EIO=3&transport=polling&t=NLM_Pja&sid=17ea9b00eae248b28639d6d6d08ce4e3 HTTP/1.1\u001b[0m\" 200 -\n",
      "INFO:werkzeug:127.0.0.1 - - [23/Oct/2020 15:44:22] \"\u001b[37mGET /socket.io/?EIO=3&transport=polling&t=NLM_Jca&sid=17ea9b00eae248b28639d6d6d08ce4e3 HTTP/1.1\u001b[0m\" 200 -\n",
      "INFO:werkzeug:127.0.0.1 - - [23/Oct/2020 15:44:29] \"\u001b[31m\u001b[1mGET /socket.io/?EIO=3&transport=polling&t=NLM_Cid&sid=a9114c6e59c14df2a1041b0ad0da197f HTTP/1.1\u001b[0m\" 400 -\n",
      "INFO:werkzeug:127.0.0.1 - - [23/Oct/2020 15:44:29] \"\u001b[31m\u001b[1mGET /socket.io/?EIO=3&transport=polling&t=NLM_Cie&sid=cf245d6945f8431096cbbb4bdbd77107 HTTP/1.1\u001b[0m\" 400 -\n",
      "WARNING:engineio.server:Invalid session a9114c6e59c14df2a1041b0ad0da197f\n",
      "INFO:werkzeug:127.0.0.1 - - [23/Oct/2020 15:44:29] \"\u001b[31m\u001b[1mPOST /socket.io/?EIO=3&transport=polling&t=NLM_J2o&sid=a9114c6e59c14df2a1041b0ad0da197f HTTP/1.1\u001b[0m\" 400 -\n",
      "WARNING:engineio.server:Invalid session cf245d6945f8431096cbbb4bdbd77107\n",
      "INFO:werkzeug:127.0.0.1 - - [23/Oct/2020 15:44:29] \"\u001b[31m\u001b[1mPOST /socket.io/?EIO=3&transport=polling&t=NLM_J2o&sid=cf245d6945f8431096cbbb4bdbd77107 HTTP/1.1\u001b[0m\" 400 -\n",
      "INFO:werkzeug:127.0.0.1 - - [23/Oct/2020 15:44:29] \"\u001b[37mPOST /socket.io/?EIO=3&transport=polling&t=NLM_JY2&sid=ebc6a0a5d44e4ba391e765a59fc219cc HTTP/1.1\u001b[0m\" 200 -\n",
      "INFO:werkzeug:127.0.0.1 - - [23/Oct/2020 15:44:29] \"\u001b[37mPOST /socket.io/?EIO=3&transport=polling&t=NLM_J2r&sid=ccf6b7bdf08f4f03a1e30a32c1144b62 HTTP/1.1\u001b[0m\" 200 -\n",
      "INFO:werkzeug:127.0.0.1 - - [23/Oct/2020 15:44:29] \"\u001b[37mGET /socket.io/?EIO=3&transport=polling&t=NLM_ClJ&sid=ccf6b7bdf08f4f03a1e30a32c1144b62 HTTP/1.1\u001b[0m\" 200 -\n",
      "INFO:werkzeug:127.0.0.1 - - [23/Oct/2020 15:44:29] \"\u001b[37mGET /socket.io/?EIO=3&transport=polling&t=NLM_DC4&sid=ebc6a0a5d44e4ba391e765a59fc219cc HTTP/1.1\u001b[0m\" 200 -\n",
      "INFO:werkzeug:127.0.0.1 - - [23/Oct/2020 15:44:29] \"\u001b[37mPOST /socket.io/?EIO=3&transport=polling&t=NLM_K1J&sid=c9abdf4286ee47ddafbf78d1e3091c5f HTTP/1.1\u001b[0m\" 200 -\n",
      "INFO:werkzeug:127.0.0.1 - - [23/Oct/2020 15:44:29] \"\u001b[37mPOST /socket.io/?EIO=3&transport=polling&t=NLM_KWY&sid=c6815427f3fe40ef914e5cde88f619ce HTTP/1.1\u001b[0m\" 200 -\n",
      "INFO:werkzeug:127.0.0.1 - - [23/Oct/2020 15:44:29] \"\u001b[37mGET /socket.io/?EIO=3&transport=polling&t=NLM_DhR&sid=c9abdf4286ee47ddafbf78d1e3091c5f HTTP/1.1\u001b[0m\" 200 -\n",
      "INFO:werkzeug:127.0.0.1 - - [23/Oct/2020 15:44:29] \"\u001b[37mGET /socket.io/?EIO=3&transport=polling&t=NLM_EAe&sid=c6815427f3fe40ef914e5cde88f619ce HTTP/1.1\u001b[0m\" 200 -\n",
      "WARNING:engineio.server:Invalid session cf245d6945f8431096cbbb4bdbd77107\n",
      "INFO:werkzeug:127.0.0.1 - - [23/Oct/2020 15:44:30] \"\u001b[31m\u001b[1mPOST /socket.io/?EIO=3&transport=polling&t=NLM_Rbg&sid=cf245d6945f8431096cbbb4bdbd77107 HTTP/1.1\u001b[0m\" 400 -\n",
      "WARNING:engineio.server:Invalid session a9114c6e59c14df2a1041b0ad0da197f\n",
      "INFO:werkzeug:127.0.0.1 - - [23/Oct/2020 15:44:30] \"\u001b[31m\u001b[1mPOST /socket.io/?EIO=3&transport=polling&t=NLM_Rbg&sid=a9114c6e59c14df2a1041b0ad0da197f HTTP/1.1\u001b[0m\" 400 -\n",
      "INFO:werkzeug:127.0.0.1 - - [23/Oct/2020 15:44:31] \"\u001b[37mGET /socket.io/?EIO=3&transport=polling&t=NLM_RrI HTTP/1.1\u001b[0m\" 200 -\n",
      "INFO:werkzeug:127.0.0.1 - - [23/Oct/2020 15:44:31] \"\u001b[37mGET /socket.io/?EIO=3&transport=polling&t=NLM_RrI HTTP/1.1\u001b[0m\" 200 -\n"
     ]
    }
   ],
   "source": [
    "!auv sample_patient.h5"
   ]
  }
 ],
 "metadata": {
  "kernelspec": {
   "display_name": "Python 3",
   "language": "python",
   "name": "python3"
  },
  "language_info": {
   "codemirror_mode": {
    "name": "ipython",
    "version": 3
   },
   "file_extension": ".py",
   "mimetype": "text/x-python",
   "name": "python",
   "nbconvert_exporter": "python",
   "pygments_lexer": "ipython3",
   "version": "3.8.5"
  }
 },
 "nbformat": 4,
 "nbformat_minor": 4
}
